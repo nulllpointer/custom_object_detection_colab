{
  "nbformat": 4,
  "nbformat_minor": 0,
  "metadata": {
    "colab": {
      "name": "sppech_recognition_with_speech_commands_dataset.ipynb",
      "version": "0.3.2",
      "provenance": [],
      "include_colab_link": true
    },
    "kernelspec": {
      "name": "python2",
      "display_name": "Python 2"
    }
  },
  "cells": [
    {
      "cell_type": "markdown",
      "metadata": {
        "id": "view-in-github",
        "colab_type": "text"
      },
      "source": [
        "<a href=\"https://colab.research.google.com/github/nulllpointer/custom_object_detection_colab/blob/master/speech_recognition_with_speech_commands_dataset.ipynb\" target=\"_parent\"><img src=\"https://colab.research.google.com/assets/colab-badge.svg\" alt=\"Open In Colab\"/></a>"
      ]
    },
    {
      "cell_type": "code",
      "metadata": {
        "id": "EXHfuRHJXFGV",
        "colab_type": "code",
        "colab": {
          "base_uri": "https://localhost:8080/",
          "height": 34
        },
        "outputId": "0e33cc76-7ae1-43bf-849a-93d6911fbad0"
      },
      "source": [
        "%cd ~ \n",
        "!git clone --quiet https://github.com/tensorflow/tensorflow"
      ],
      "execution_count": 5,
      "outputs": [
        {
          "output_type": "stream",
          "text": [
            "/root\n"
          ],
          "name": "stdout"
        }
      ]
    },
    {
      "cell_type": "code",
      "metadata": {
        "id": "3PmlVR2ra0wN",
        "colab_type": "code",
        "colab": {
          "base_uri": "https://localhost:8080/",
          "height": 1000
        },
        "outputId": "2ffe79d2-7437-4b4c-f896-61823188090d"
      },
      "source": [
        "%cd ~/tensorflow\n",
        "!python tensorflow/examples/speech_commands/train.py\n"
      ],
      "execution_count": 0,
      "outputs": [
        {
          "output_type": "stream",
          "text": [
            "/root/tensorflow\n",
            "2019-08-05 10:56:09.436756: I tensorflow/core/platform/profile_utils/cpu_utils.cc:94] CPU Frequency: 2200000000 Hz\n",
            "2019-08-05 10:56:09.437020: I tensorflow/compiler/xla/service/service.cc:168] XLA service 0x55daa6194f40 executing computations on platform Host. Devices:\n",
            "2019-08-05 10:56:09.437058: I tensorflow/compiler/xla/service/service.cc:175]   StreamExecutor device (0): <undefined>, <undefined>\n",
            ">> Downloading speech_commands_v0.02.tar.gz 100.0%\n",
            "I0805 10:57:23.252187 139707307628416 input_data.py:242] Successfully downloaded speech_commands_v0.02.tar.gz (2428923189 bytes)\n",
            "W0805 10:58:58.301604 139707307628416 deprecation.py:506] From /root/tensorflow/tensorflow/examples/speech_commands/models.py:278: calling dropout (from tensorflow.python.ops.nn_ops) with keep_prob is deprecated and will be removed in a future version.\n",
            "Instructions for updating:\n",
            "Please use `rate` instead of `keep_prob`. Rate should be set to `rate = 1 - keep_prob`.\n",
            "W0805 10:58:58.367965 139707307628416 deprecation.py:323] From /usr/local/lib/python2.7/dist-packages/tensorflow/python/ops/losses/losses_impl.py:121: where (from tensorflow.python.ops.array_ops) is deprecated and will be removed in a future version.\n",
            "Instructions for updating:\n",
            "Use tf.where in 2.0, which has the same broadcast rule as np.where\n",
            "2019-08-05 10:58:58.817140: W tensorflow/compiler/jit/mark_for_compilation_pass.cc:1412] (One-time warning): Not using XLA:CPU for cluster because envvar TF_XLA_FLAGS=--tf_xla_cpu_global_jit was not set.  If you want XLA:CPU, either set that envvar, or use experimental_jit_scope to enable XLA:CPU.  To confirm that XLA is active, pass --vmodule=xla_compilation_cache=1 (as a proper command-line flag, not via TF_XLA_FLAGS) or set the envvar XLA_FLAGS=--xla_hlo_profile.\n",
            "I0805 10:58:58.867623 139707307628416 train.py:195] Training from step: 1 \n",
            "2019-08-05 10:58:59.573846: W tensorflow/core/framework/allocator.cc:107] Allocation of 100352000 exceeds 10% of system memory.\n",
            "2019-08-05 10:59:00.073800: W tensorflow/core/framework/allocator.cc:107] Allocation of 100352000 exceeds 10% of system memory.\n",
            "2019-08-05 10:59:00.073921: W tensorflow/core/framework/allocator.cc:107] Allocation of 100352000 exceeds 10% of system memory.\n",
            "2019-08-05 10:59:00.343689: W tensorflow/core/framework/allocator.cc:107] Allocation of 25088000 exceeds 10% of system memory.\n",
            "2019-08-05 10:59:00.372797: W tensorflow/core/framework/allocator.cc:107] Allocation of 100352000 exceeds 10% of system memory.\n",
            "I0805 10:59:04.302100 139707307628416 train.py:240] Step #1: rate 0.001000, accuracy 9.0%, cross entropy 2.596637\n",
            "I0805 10:59:09.015647 139707307628416 train.py:240] Step #2: rate 0.001000, accuracy 9.0%, cross entropy 2.485578\n",
            "I0805 10:59:13.708556 139707307628416 train.py:240] Step #3: rate 0.001000, accuracy 8.0%, cross entropy 2.541947\n",
            "I0805 10:59:18.474571 139707307628416 train.py:240] Step #4: rate 0.001000, accuracy 6.0%, cross entropy 2.537855\n",
            "I0805 10:59:23.226526 139707307628416 train.py:240] Step #5: rate 0.001000, accuracy 10.0%, cross entropy 2.547316\n",
            "I0805 10:59:27.947895 139707307628416 train.py:240] Step #6: rate 0.001000, accuracy 9.0%, cross entropy 2.508415\n",
            "I0805 10:59:32.637219 139707307628416 train.py:240] Step #7: rate 0.001000, accuracy 13.0%, cross entropy 2.573528\n",
            "I0805 10:59:37.342325 139707307628416 train.py:240] Step #8: rate 0.001000, accuracy 7.0%, cross entropy 2.560691\n",
            "I0805 10:59:41.940363 139707307628416 train.py:240] Step #9: rate 0.001000, accuracy 13.0%, cross entropy 2.494423\n",
            "I0805 10:59:46.621962 139707307628416 train.py:240] Step #10: rate 0.001000, accuracy 14.0%, cross entropy 2.459787\n",
            "I0805 10:59:51.357667 139707307628416 train.py:240] Step #11: rate 0.001000, accuracy 11.0%, cross entropy 2.576939\n",
            "I0805 10:59:56.059179 139707307628416 train.py:240] Step #12: rate 0.001000, accuracy 10.0%, cross entropy 2.471219\n",
            "I0805 11:00:00.753334 139707307628416 train.py:240] Step #13: rate 0.001000, accuracy 7.0%, cross entropy 2.539468\n",
            "I0805 11:00:05.420947 139707307628416 train.py:240] Step #14: rate 0.001000, accuracy 16.0%, cross entropy 2.493812\n",
            "I0805 11:00:10.101583 139707307628416 train.py:240] Step #15: rate 0.001000, accuracy 12.0%, cross entropy 2.521929\n",
            "I0805 11:00:14.791580 139707307628416 train.py:240] Step #16: rate 0.001000, accuracy 9.0%, cross entropy 2.529550\n",
            "I0805 11:00:19.490129 139707307628416 train.py:240] Step #17: rate 0.001000, accuracy 7.0%, cross entropy 2.536820\n",
            "I0805 11:00:24.222532 139707307628416 train.py:240] Step #18: rate 0.001000, accuracy 14.0%, cross entropy 2.494923\n",
            "I0805 11:00:28.920840 139707307628416 train.py:240] Step #19: rate 0.001000, accuracy 15.0%, cross entropy 2.485498\n",
            "I0805 11:00:33.664485 139707307628416 train.py:240] Step #20: rate 0.001000, accuracy 7.0%, cross entropy 2.530956\n",
            "I0805 11:00:38.380342 139707307628416 train.py:240] Step #21: rate 0.001000, accuracy 10.0%, cross entropy 2.456773\n",
            "I0805 11:00:43.080966 139707307628416 train.py:240] Step #22: rate 0.001000, accuracy 9.0%, cross entropy 2.524352\n",
            "I0805 11:00:47.749640 139707307628416 train.py:240] Step #23: rate 0.001000, accuracy 13.0%, cross entropy 2.479506\n",
            "I0805 11:00:52.433427 139707307628416 train.py:240] Step #24: rate 0.001000, accuracy 9.0%, cross entropy 2.479992\n",
            "I0805 11:00:57.116017 139707307628416 train.py:240] Step #25: rate 0.001000, accuracy 13.0%, cross entropy 2.503585\n",
            "I0805 11:01:01.819854 139707307628416 train.py:240] Step #26: rate 0.001000, accuracy 10.0%, cross entropy 2.472155\n",
            "I0805 11:01:06.507585 139707307628416 train.py:240] Step #27: rate 0.001000, accuracy 8.0%, cross entropy 2.537790\n",
            "I0805 11:01:11.205756 139707307628416 train.py:240] Step #28: rate 0.001000, accuracy 8.0%, cross entropy 2.501031\n",
            "I0805 11:01:15.899717 139707307628416 train.py:240] Step #29: rate 0.001000, accuracy 17.0%, cross entropy 2.439714\n",
            "I0805 11:01:20.583019 139707307628416 train.py:240] Step #30: rate 0.001000, accuracy 6.0%, cross entropy 2.528322\n",
            "I0805 11:01:25.285365 139707307628416 train.py:240] Step #31: rate 0.001000, accuracy 11.0%, cross entropy 2.480577\n",
            "I0805 11:01:29.949089 139707307628416 train.py:240] Step #32: rate 0.001000, accuracy 13.0%, cross entropy 2.500054\n",
            "I0805 11:01:34.643528 139707307628416 train.py:240] Step #33: rate 0.001000, accuracy 9.0%, cross entropy 2.535349\n",
            "I0805 11:01:39.320846 139707307628416 train.py:240] Step #34: rate 0.001000, accuracy 9.0%, cross entropy 2.513265\n",
            "I0805 11:01:43.988774 139707307628416 train.py:240] Step #35: rate 0.001000, accuracy 12.0%, cross entropy 2.482478\n",
            "I0805 11:01:48.696088 139707307628416 train.py:240] Step #36: rate 0.001000, accuracy 16.0%, cross entropy 2.485130\n",
            "I0805 11:01:53.398292 139707307628416 train.py:240] Step #37: rate 0.001000, accuracy 12.0%, cross entropy 2.472400\n",
            "I0805 11:01:58.058341 139707307628416 train.py:240] Step #38: rate 0.001000, accuracy 14.0%, cross entropy 2.516841\n",
            "I0805 11:02:02.754615 139707307628416 train.py:240] Step #39: rate 0.001000, accuracy 13.0%, cross entropy 2.515032\n",
            "I0805 11:02:07.472007 139707307628416 train.py:240] Step #40: rate 0.001000, accuracy 7.0%, cross entropy 2.485505\n",
            "I0805 11:02:12.171520 139707307628416 train.py:240] Step #41: rate 0.001000, accuracy 7.0%, cross entropy 2.505048\n",
            "I0805 11:02:16.855911 139707307628416 train.py:240] Step #42: rate 0.001000, accuracy 13.0%, cross entropy 2.422385\n",
            "I0805 11:02:21.575970 139707307628416 train.py:240] Step #43: rate 0.001000, accuracy 13.0%, cross entropy 2.473068\n",
            "I0805 11:02:26.300978 139707307628416 train.py:240] Step #44: rate 0.001000, accuracy 17.0%, cross entropy 2.446404\n",
            "I0805 11:02:31.033065 139707307628416 train.py:240] Step #45: rate 0.001000, accuracy 11.0%, cross entropy 2.484086\n",
            "I0805 11:02:35.855307 139707307628416 train.py:240] Step #46: rate 0.001000, accuracy 8.0%, cross entropy 2.446373\n",
            "I0805 11:02:40.588304 139707307628416 train.py:240] Step #47: rate 0.001000, accuracy 10.0%, cross entropy 2.438550\n",
            "I0805 11:02:45.278295 139707307628416 train.py:240] Step #48: rate 0.001000, accuracy 14.0%, cross entropy 2.479309\n",
            "I0805 11:02:49.946484 139707307628416 train.py:240] Step #49: rate 0.001000, accuracy 4.0%, cross entropy 2.503074\n",
            "I0805 11:02:54.656626 139707307628416 train.py:240] Step #50: rate 0.001000, accuracy 11.0%, cross entropy 2.454512\n",
            "I0805 11:02:59.452199 139707307628416 train.py:240] Step #51: rate 0.001000, accuracy 14.0%, cross entropy 2.495237\n",
            "I0805 11:03:04.188946 139707307628416 train.py:240] Step #52: rate 0.001000, accuracy 14.0%, cross entropy 2.451135\n",
            "I0805 11:03:08.909302 139707307628416 train.py:240] Step #53: rate 0.001000, accuracy 9.0%, cross entropy 2.476371\n",
            "I0805 11:03:13.601835 139707307628416 train.py:240] Step #54: rate 0.001000, accuracy 8.0%, cross entropy 2.498706\n",
            "I0805 11:03:18.274105 139707307628416 train.py:240] Step #55: rate 0.001000, accuracy 18.0%, cross entropy 2.455981\n",
            "I0805 11:03:22.993479 139707307628416 train.py:240] Step #56: rate 0.001000, accuracy 16.0%, cross entropy 2.439296\n",
            "I0805 11:03:27.727056 139707307628416 train.py:240] Step #57: rate 0.001000, accuracy 19.0%, cross entropy 2.421080\n",
            "I0805 11:03:32.393263 139707307628416 train.py:240] Step #58: rate 0.001000, accuracy 10.0%, cross entropy 2.513733\n",
            "I0805 11:03:37.113156 139707307628416 train.py:240] Step #59: rate 0.001000, accuracy 7.0%, cross entropy 2.489463\n",
            "I0805 11:03:41.804620 139707307628416 train.py:240] Step #60: rate 0.001000, accuracy 20.0%, cross entropy 2.442327\n",
            "I0805 11:03:46.504421 139707307628416 train.py:240] Step #61: rate 0.001000, accuracy 13.0%, cross entropy 2.451924\n",
            "I0805 11:03:51.182075 139707307628416 train.py:240] Step #62: rate 0.001000, accuracy 14.0%, cross entropy 2.420453\n",
            "I0805 11:03:55.891940 139707307628416 train.py:240] Step #63: rate 0.001000, accuracy 12.0%, cross entropy 2.464025\n",
            "I0805 11:04:00.590833 139707307628416 train.py:240] Step #64: rate 0.001000, accuracy 10.0%, cross entropy 2.479332\n",
            "I0805 11:04:05.272094 139707307628416 train.py:240] Step #65: rate 0.001000, accuracy 14.0%, cross entropy 2.432795\n",
            "I0805 11:04:09.963464 139707307628416 train.py:240] Step #66: rate 0.001000, accuracy 6.0%, cross entropy 2.489204\n",
            "I0805 11:04:14.666311 139707307628416 train.py:240] Step #67: rate 0.001000, accuracy 12.0%, cross entropy 2.496935\n",
            "I0805 11:04:19.383728 139707307628416 train.py:240] Step #68: rate 0.001000, accuracy 10.0%, cross entropy 2.483691\n",
            "I0805 11:04:24.119088 139707307628416 train.py:240] Step #69: rate 0.001000, accuracy 13.0%, cross entropy 2.455553\n",
            "I0805 11:04:28.825783 139707307628416 train.py:240] Step #70: rate 0.001000, accuracy 14.0%, cross entropy 2.469841\n",
            "I0805 11:04:33.553256 139707307628416 train.py:240] Step #71: rate 0.001000, accuracy 16.0%, cross entropy 2.461904\n",
            "I0805 11:04:38.299390 139707307628416 train.py:240] Step #72: rate 0.001000, accuracy 11.0%, cross entropy 2.453113\n",
            "I0805 11:04:43.011749 139707307628416 train.py:240] Step #73: rate 0.001000, accuracy 11.0%, cross entropy 2.484293\n",
            "I0805 11:04:47.690208 139707307628416 train.py:240] Step #74: rate 0.001000, accuracy 13.0%, cross entropy 2.447834\n",
            "I0805 11:04:52.370671 139707307628416 train.py:240] Step #75: rate 0.001000, accuracy 13.0%, cross entropy 2.439806\n",
            "I0805 11:04:57.074398 139707307628416 train.py:240] Step #76: rate 0.001000, accuracy 10.0%, cross entropy 2.525268\n",
            "I0805 11:05:01.745105 139707307628416 train.py:240] Step #77: rate 0.001000, accuracy 15.0%, cross entropy 2.433196\n",
            "I0805 11:05:06.448939 139707307628416 train.py:240] Step #78: rate 0.001000, accuracy 16.0%, cross entropy 2.446298\n",
            "I0805 11:05:11.140160 139707307628416 train.py:240] Step #79: rate 0.001000, accuracy 18.0%, cross entropy 2.449735\n",
            "I0805 11:05:15.822902 139707307628416 train.py:240] Step #80: rate 0.001000, accuracy 13.0%, cross entropy 2.452107\n",
            "I0805 11:05:20.477005 139707307628416 train.py:240] Step #81: rate 0.001000, accuracy 13.0%, cross entropy 2.432356\n",
            "I0805 11:05:25.176415 139707307628416 train.py:240] Step #82: rate 0.001000, accuracy 12.0%, cross entropy 2.441477\n",
            "I0805 11:05:29.874181 139707307628416 train.py:240] Step #83: rate 0.001000, accuracy 11.0%, cross entropy 2.458560\n",
            "I0805 11:05:34.519937 139707307628416 train.py:240] Step #84: rate 0.001000, accuracy 18.0%, cross entropy 2.426054\n",
            "I0805 11:05:39.225040 139707307628416 train.py:240] Step #85: rate 0.001000, accuracy 10.0%, cross entropy 2.442534\n",
            "I0805 11:05:43.898248 139707307628416 train.py:240] Step #86: rate 0.001000, accuracy 12.0%, cross entropy 2.492197\n",
            "I0805 11:05:48.599617 139707307628416 train.py:240] Step #87: rate 0.001000, accuracy 10.0%, cross entropy 2.455059\n",
            "I0805 11:05:53.310563 139707307628416 train.py:240] Step #88: rate 0.001000, accuracy 11.0%, cross entropy 2.439328\n",
            "I0805 11:05:58.060651 139707307628416 train.py:240] Step #89: rate 0.001000, accuracy 13.0%, cross entropy 2.413841\n",
            "I0805 11:06:02.803400 139707307628416 train.py:240] Step #90: rate 0.001000, accuracy 18.0%, cross entropy 2.435067\n",
            "I0805 11:06:07.547420 139707307628416 train.py:240] Step #91: rate 0.001000, accuracy 20.0%, cross entropy 2.405927\n",
            "I0805 11:06:12.288991 139707307628416 train.py:240] Step #92: rate 0.001000, accuracy 18.0%, cross entropy 2.433901\n",
            "I0805 11:06:16.991909 139707307628416 train.py:240] Step #93: rate 0.001000, accuracy 11.0%, cross entropy 2.444833\n",
            "I0805 11:06:21.740571 139707307628416 train.py:240] Step #94: rate 0.001000, accuracy 13.0%, cross entropy 2.397867\n",
            "I0805 11:06:26.473321 139707307628416 train.py:240] Step #95: rate 0.001000, accuracy 16.0%, cross entropy 2.457435\n",
            "I0805 11:06:31.184303 139707307628416 train.py:240] Step #96: rate 0.001000, accuracy 12.0%, cross entropy 2.433893\n",
            "I0805 11:06:35.910965 139707307628416 train.py:240] Step #97: rate 0.001000, accuracy 14.0%, cross entropy 2.443435\n",
            "I0805 11:06:40.691348 139707307628416 train.py:240] Step #98: rate 0.001000, accuracy 10.0%, cross entropy 2.488250\n"
          ],
          "name": "stdout"
        }
      ]
    }
  ]
}