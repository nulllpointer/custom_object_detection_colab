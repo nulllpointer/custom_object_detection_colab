{
  "nbformat": 4,
  "nbformat_minor": 0,
  "metadata": {
    "colab": {
      "name": "Copy of Copy of objdet_custom_tf_colab.ipynb",
      "version": "0.3.2",
      "provenance": [],
      "collapsed_sections": [],
      "toc_visible": true,
      "include_colab_link": true
    },
    "kernelspec": {
      "name": "python2",
      "display_name": "Python 2"
    },
    "accelerator": "GPU"
  },
  "cells": [
    {
      "cell_type": "markdown",
      "metadata": {
        "id": "view-in-github",
        "colab_type": "text"
      },
      "source": [
        "<a href=\"https://colab.research.google.com/github/nulllpointer/custom_object_detection_colab/blob/master/Copy_of_Copy_of_objdet_custom_tf_colab.ipynb\" target=\"_parent\"><img src=\"https://colab.research.google.com/assets/colab-badge.svg\" alt=\"Open In Colab\"/></a>"
      ]
    },
    {
      "cell_type": "markdown",
      "metadata": {
        "id": "x2fJWG6zpB12",
        "colab_type": "text"
      },
      "source": [
        "#Tensorflow Object Detection with custom dataset in Google Colab\n",
        "\n",
        "Jupyter notebook providing steps to retrain a [ModelZoo](https://github.com/tensorflow/models/blob/master/research/object_detection/g3doc/detection_model_zoo.md) model with custom dataset.\n",
        "\n",
        "It runs in [Google Colab](https://colab.research.google.com) using [Tensorflow Object Detection API](https://github.com/tensorflow/models/tree/master/research/object_detection).\n",
        "\n",
        "**Requirements are only dataset images and annotations file.**\n",
        "\n",
        "The code is compatible with Object Detection api updates in July 13 2018 [release](https://github.com/tensorflow/models/tree/master/research/object_detection#july-13-2018).\n",
        "\n",
        "**Colab Runtime type: Python2, GPU enabled.**\n",
        "\n"
      ]
    },
    {
      "cell_type": "markdown",
      "metadata": {
        "id": "GOpn4IebMl6p",
        "colab_type": "text"
      },
      "source": [
        "# Install required packages\n"
      ]
    },
    {
      "cell_type": "code",
      "metadata": {
        "id": "NTGqlSTLuxld",
        "colab_type": "code",
        "colab": {}
      },
      "source": [
        "import os\n",
        "\n",
        "\n",
        "%cd\n",
        "#  run initially \n",
        "!git clone --quiet https://github.com/tensorflow/models.git\n",
        "\n",
        "!apt-get install -qq protobuf-compiler python-tk\n",
        "\n",
        "!pip install -q Cython contextlib2 pillow lxml matplotlib PyDrive\n",
        "\n",
        "!pip install -q pycocotools\n",
        "\n",
        "%cd ~/models/research\n",
        "\n",
        "!protoc object_detection/protos/*.proto --python_out=.\n",
        "\n",
        "os.environ['PYTHONPATH'] += ':/root/models/research/:/root/models/research/slim'\n",
        "\n",
        "!python object_detection/builders/model_builder_test.py"
      ],
      "execution_count": 0,
      "outputs": []
    },
    {
      "cell_type": "code",
      "metadata": {
        "id": "0KrU2YYkeC9U",
        "colab_type": "code",
        "colab": {}
      },
      "source": [
        "from google.colab import files\n",
        "from os import path\n",
        "%mkdir -p ~/datalab \n",
        "%cd ~/datalab\n",
        "uploaded = files.upload()  \n",
        "for name, data in uploaded.items():\n",
        "  with open('label_map.pbtxt', 'wb') as f:\n",
        "    f.write(data)\n",
        "    f.close()\n",
        "    print('saved file ' + name)\n",
        "!cat ~/datalab/label_map.pbtxt    \n",
        "    \n",
        "    "
      ],
      "execution_count": 0,
      "outputs": []
    },
    {
      "cell_type": "markdown",
      "metadata": {
        "id": "UiXiLQumY-nz",
        "colab_type": "text"
      },
      "source": [
        "\n",
        "\n",
        "import os\n",
        "from zipfile import ZipFile\n",
        "from shutil import copy\n",
        "from pydrive.auth import GoogleAuth\n",
        "from pydrive.drive import GoogleDrive\n",
        "from google.colab import auth\n",
        "from oauth2client.client import GoogleCredentials\n",
        "# Download and extract dataset\n",
        "\n",
        "\n",
        "*   Change name attribute in label_map, accordingly with objectclass filename.\n",
        "*   Substitute fileId value with your dataset.zip id in Google Drive. See [here](https://stackoverflow.com/a/48855034/9250875) my answer to get file id."
      ]
    },
    {
      "cell_type": "code",
      "metadata": {
        "id": "THhnes1ckVA5",
        "colab_type": "code",
        "colab": {}
      },
      "source": [
        "import os\n",
        "from zipfile import ZipFile\n",
        "from shutil import copy\n",
        "from pydrive.auth import GoogleAuth\n",
        "from pydrive.drive import GoogleDrive\n",
        "from google.colab import auth\n",
        "from oauth2client.client import GoogleCredentials\n",
        "\n",
        "\n",
        "\"\"\"creates a directory and downloads the datalset from gdrive\"\"\"\n",
        "\n",
        "%cd ~/datalab\n",
        "\n",
        "fileId = '1rtChiD59mt2p93zU34DN_OSYgnza6reG'\n",
        "auth.authenticate_user()\n",
        "gauth = GoogleAuth()\n",
        "gauth.credentials = GoogleCredentials.get_application_default()\n",
        "drive = GoogleDrive(gauth)\n",
        "\n",
        "fileName = fileId + '.zip'\n",
        "downloaded = drive.CreateFile({'id': fileId})\n",
        "downloaded.GetContentFile(fileName)\n",
        "ds = ZipFile(fileName)\n",
        "ds.extractall()\n",
        "os.remove(fileName)\n",
        "print('Extracted zip file ' + fileName)\n",
        "\n",
        "image_files=os.listdir('images')\n",
        "im_files=[x.split('.')[0] for x in image_files]\n",
        "with open('annotations/trainval.txt', 'w') as text_file:\n",
        "  for row in im_files:\n",
        "    text_file.write(row + '\\n')"
      ],
      "execution_count": 0,
      "outputs": []
    },
    {
      "cell_type": "markdown",
      "metadata": {
        "id": "sJDLJeonEVDu",
        "colab_type": "text"
      },
      "source": [
        "#Empty png files\n",
        "Create empty png mask files to avoid error in create_pet_tf_record.py, they are not used in training model."
      ]
    },
    {
      "cell_type": "code",
      "metadata": {
        "id": "yre-rvSJ83bW",
        "colab_type": "code",
        "colab": {}
      },
      "source": [
        "from PIL import Image\n",
        "\n",
        "\n",
        "%cd ~/datalab/annotations\n",
        "!mkdir -p trimaps\n",
        "image = Image.new('RGB', (640, 480))\n",
        "\n",
        "for filename in os.listdir('xmls'):\n",
        "  filename = os.path.splitext(filename)[0]\n",
        "  image.save('trimaps/' + filename + '.png')"
      ],
      "execution_count": 0,
      "outputs": []
    },
    {
      "cell_type": "markdown",
      "metadata": {
        "id": "41CuxuIYdWUx",
        "colab_type": "text"
      },
      "source": [
        "# Create TFRecord"
      ]
    },
    {
      "cell_type": "code",
      "metadata": {
        "id": "oXeqgzNhluaC",
        "colab_type": "code",
        "colab": {}
      },
      "source": [
        "%cd ~/datalab\n",
        "\n",
        "!python ~/models/research/object_detection/dataset_tools/create_pet_tf_record.py --label_map_path=label_map.pbtxt --data_dir=. --output_dir=. --num_shards=1\n",
        "\n",
        "!mv pet_faces_train.record-00000-of-00001 tf_train.record\n",
        "\n",
        "!mv pet_faces_val.record-00000-of-00001 tf_val.record\n"
      ],
      "execution_count": 0,
      "outputs": []
    },
    {
      "cell_type": "markdown",
      "metadata": {
        "id": "jeyO_oSKdhsG",
        "colab_type": "text"
      },
      "source": [
        "\n",
        "\n",
        "# Download pretrained model\n",
        "\n",
        "Cell downloads **faster_rcnn_inception_v2_coco** model to use as starting checkpoint.\n",
        "\n",
        "To use another model from ModelZoo change MODEL var."
      ]
    },
    {
      "cell_type": "code",
      "metadata": {
        "id": "sUDk1gLQsWOz",
        "colab_type": "code",
        "colab": {}
      },
      "source": [
        "import os\n",
        "import shutil\n",
        "import glob\n",
        "import urllib\n",
        "import tarfile\n",
        "\n",
        "\n",
        "# Get list of models from https://github.com/tensorflow/models/blob/fe748d4a4a1576b57c279014ac0ceb47344399c4/research/object_detection/g3doc/detection_model_zoo.md\n",
        "\n",
        "%cd ~/datalab\n",
        "MODEL= 'ssd_inception_v2_coco_2018_01_28'\n",
        "# MODEL = 'ssd_mobilenet_v2_coco_2018_03_29'\n",
        "MODEL_FILE = MODEL + '.tar.gz'\n",
        "DOWNLOAD_BASE = 'http://download.tensorflow.org/models/object_detection/'\n",
        "DEST_DIR = 'pretrained_model'\n",
        "\n",
        "if not (os.path.exists(MODEL_FILE)):\n",
        "  opener = urllib.URLopener()\n",
        "  opener.retrieve(DOWNLOAD_BASE + MODEL_FILE, MODEL_FILE)\n",
        "tar = tarfile.open(MODEL_FILE)\n",
        "tar.extractall()\n",
        "tar.close()\n",
        "os.remove(MODEL_FILE)\n",
        "if (os.path.exists(DEST_DIR)):\n",
        "  shutil.rmtree(DEST_DIR)\n",
        "os.rename(MODEL, DEST_DIR)"
      ],
      "execution_count": 0,
      "outputs": []
    },
    {
      "cell_type": "markdown",
      "metadata": {
        "id": "2HTraQgqgW3v",
        "colab_type": "text"
      },
      "source": [
        "# Edit model config file\n",
        "To you use a different pretrained model in step before, update accordingly filename var and re.sub functions in next cell.\n"
      ]
    },
    {
      "cell_type": "code",
      "metadata": {
        "id": "f1twuMBWvhL4",
        "colab_type": "code",
        "colab": {}
      },
      "source": [
        "# import re\n",
        "\n",
        "# %cd ~\n",
        "\n",
        "\n",
        "# PATH_TO_BE_CONFIGURED='~/datalab'\n",
        "\n",
        "# # filename = '/root/models/research/object_detection/samples/configs/faster_rcnn_inception_v2_pets.config'\n",
        "\n",
        "# filename = '/root/models/research/object_detection/samples/configs/ssd_inception_v2_pets.config'\n",
        "\n",
        "# with open(filename) as f:\n",
        "#   s = f.read()\n",
        "# with open(filename, 'w') as f:\n",
        "#   s = re.sub('PATH_TO_BE_CONFIGURED/model.ckpt', '/root/datalab/pretrained_model/model.ckpt', s)\n",
        "#   s = re.sub('PATH_TO_BE_CONFIGURED/pet_faces_train.record-\\?\\?\\?\\?\\?-of-00010', '/root/datalab/tf_train.record', s)\n",
        "#   s = re.sub('PATH_TO_BE_CONFIGURED/pet_faces_val.record-\\?\\?\\?\\?\\?-of-00010', '/root/datalab/tf_val.record', s)\n",
        "#   s = re.sub('PATH_TO_BE_CONFIGURED/pet_label_map.pbtxt', '/root/datalab/label_map.pbtxt', s)\n",
        "#   f.write(s)\n",
        "  \n",
        "# #   s = re.sub('fixed_shape_resizer', 'keep_aspect_ratio_resizer', s)\n",
        "# #   s = re.sub('height\\: 300', 'min_dimension: 300', s)\n",
        "# #   s = re.sub('width\\: 300', 'max_dimension: 300', s)\n",
        "\n",
        "# # pipeline_config = pipeline_pb2.TrainEvalPipelineConfig()\n",
        "# # with tf.gfile.GFile(filename, \"r\") as f:\n",
        "# #   proto_str = f.read()                                                                                                                                                                                                                                          \n",
        "# #   text_format.Merge(proto_str, pipeline_config)                                                                                                                                                                                                                 \n",
        "\n",
        "# # pipeline_config.model.ssd.image_resizer.fixed_shape_resizer.height = 200                                                                                                                                                                                          \n",
        "# # pipeline_config.model.ssd.image_resizer.fixed_shape_resizer.width = 300                                                                                                                                                                                           \n",
        "\n",
        "# # config_text = text_format.MessageToString(pipeline_config)                                                                                                                                                                                                        \n",
        "# # with tf.gfile.Open('ssd_inception_v2_pets.config', \"wb\") as f:                                                                                                                                                                                                                       \n",
        "# #         f.write(config_text)    \n",
        "  \n",
        "  \n",
        "  \n",
        "  \n",
        "  \n",
        "\n",
        "\n",
        "  \n",
        "  \n",
        "# !cat /root/models/research/object_detection/samples/configs/ssd_inception_v2_pets.config"
      ],
      "execution_count": 0,
      "outputs": []
    },
    {
      "cell_type": "code",
      "metadata": {
        "id": "62v3QDanhpOS",
        "colab_type": "code",
        "colab": {}
      },
      "source": [
        "import tensorflow as tf\n",
        "import os\n",
        "from google.protobuf import text_format\n",
        "from object_detection.protos import pipeline_pb2\n",
        "\n",
        "\n",
        "# !cat /root/models/research/object_detection/samples/configs/ssd_inception_v2_pets.config\n",
        "!cp -r ~/models/research/object_detection /usr/local/lib/python2.7/dist-packages/\n",
        "\n",
        "filename = '/root/models/research/object_detection/samples/configs/ssd_inception_v2_pets.config'\n",
        "\n",
        "pipeline_config = pipeline_pb2.TrainEvalPipelineConfig()                                                                                                                                                                                                          \n",
        "\n",
        "with tf.gfile.GFile(filename, \"r\") as f:                                                                                                                                                                                                                     \n",
        "    proto_str = f.read()                                                                                                                                                                                                                                          \n",
        "    text_format.Merge(proto_str, pipeline_config)                                                                                                                                                                                                                 \n",
        "\n",
        "pipeline_config.model.ssd.image_resizer.fixed_shape_resizer.height = 300                                                                                                                                                                                          \n",
        "pipeline_config.model.ssd.image_resizer.fixed_shape_resizer.width = 300\n",
        "pipeline_config.train_config.optimizer = 'adam_optimizer'\n",
        "\n",
        "\n",
        "print(pipeline_config.train_config.batch_size)\n",
        "print(pipeline_config.train_config.optimizer)\n",
        "\n",
        "config_text = text_format.MessageToString(pipeline_config)                                                                                                                                                                                                        \n",
        "with tf.gfile.Open(filename, \"wb\") as f:                                                                                                                                                                                                                       \n",
        "    f.write(config_text)                                                                                                                                                                                                                                          \n",
        "\n",
        "\n",
        "!cat /root/models/research/object_detection/samples/configs/ssd_inception_v2_pets.config"
      ],
      "execution_count": 0,
      "outputs": []
    },
    {
      "cell_type": "markdown",
      "metadata": {
        "id": "MAYXLhS2uZ9X",
        "colab_type": "text"
      },
      "source": [
        "# Train model\n",
        "Set num_train_steps and num_eval_steps values to change train and eval steps in training process.\n",
        "\n"
      ]
    },
    {
      "cell_type": "code",
      "metadata": {
        "colab_type": "code",
        "id": "4FW2x9apVU1F",
        "colab": {}
      },
      "source": [
        "%cd ~/datalab\n",
        "!pwd\n",
        "import tensorflow as tf\n",
        "\n",
        "\n",
        "\n",
        "\n",
        "PATH_TO_BE_CONFIGURED='~/datalab'\n",
        "\n",
        "!python ~/models/research/object_detection/model_main.py \\\n",
        "    --pipeline_config_path=/root/models/research/object_detection/samples/configs/ssd_inception_v2_pets.config \\\n",
        "    --model_dir=/root/datalab/trained \\\n",
        "    --alsologtostderr \\\n",
        "    --num_train_steps=3000 \\\n",
        "    --num_eval_steps=1000\n",
        "\n",
        "# writer=tf.summary.FileWriter('logs')\n",
        "# writer.add_graph(tf.get_default_graph())\n",
        "# writer.flush()\n",
        "\n",
        "# %load_ext tensorboard\n",
        "# # %reload_ext tensorboard\n",
        "# # %tensorboard --logdir {logs_base_dir}\n",
        "\n",
        "# %tensorboard --logdir .\n",
        "\n",
        "\n",
        "\n"
      ],
      "execution_count": 0,
      "outputs": []
    },
    {
      "cell_type": "code",
      "metadata": {
        "id": "c1uVRHHiwYdB",
        "colab_type": "code",
        "colab": {}
      },
      "source": [
        "!ls /root/datalab/trained"
      ],
      "execution_count": 0,
      "outputs": []
    },
    {
      "cell_type": "markdown",
      "metadata": {
        "id": "rjJCB5NKK4Nb",
        "colab_type": "text"
      },
      "source": [
        "#Export trained model\n",
        "\n",
        "Export trained model with highest step number in filename."
      ]
    },
    {
      "cell_type": "code",
      "metadata": {
        "id": "cp73hpU8ZrQ9",
        "colab_type": "code",
        "colab": {}
      },
      "source": [
        "# !rm -r ~/datalab/fine_tuned_model\n",
        "\n",
        "%cd ~/datalab\n",
        "\n",
        "lst = os.listdir('trained')\n",
        "lf = filter(lambda k: 'model.ckpt-' in k, lst)\n",
        "print(lf)\n",
        "\n",
        "last_model = sorted(lf)[-1].replace('.meta', '')\n",
        "!python ~/models/research/object_detection/export_inference_graph.py \\\n",
        "    --input_type=image_tensor \\\n",
        "    --pipeline_config_path=/root/models/research/object_detection/samples/configs/ssd_inception_v2_pets.config \\\n",
        "    --output_directory=fine_tuned_model \\\n",
        "    --trained_checkpoint_prefix=trained/$last_model\n",
        "\n",
        "\n",
        "\n",
        "\n",
        "\n"
      ],
      "execution_count": 0,
      "outputs": []
    },
    {
      "cell_type": "code",
      "metadata": {
        "id": "mcJeu-E7x7ia",
        "colab_type": "code",
        "colab": {}
      },
      "source": [
        "# For TF lite\n",
        "\n",
        "%cd ~/datalab\n",
        "lst = os.listdir('trained')\n",
        "lf = filter(lambda k: 'model.ckpt-' in k, lst)\n",
        "print(lf)\n",
        "\n",
        "last_model = sorted(lf)[-1].replace('.meta', '')\n",
        "!python ~/models/research/object_detection/export_tflite_ssd_graph.py \\\n",
        "    --pipeline_config_path=/root/models/research/object_detection/samples/configs/ssd_inception_v2_pets.config \\\n",
        "    --trained_checkpoint_prefix=trained/$last_model \\\n",
        "    --output_directory=tflite_fine_tuned_model \\\n",
        "    --max_detections 3"
      ],
      "execution_count": 0,
      "outputs": []
    },
    {
      "cell_type": "markdown",
      "metadata": {
        "id": "wDEY7rmQE7nQ",
        "colab_type": "text"
      },
      "source": [
        "#Upload jpg image for inference"
      ]
    },
    {
      "cell_type": "code",
      "metadata": {
        "id": "oI8Ya_6GE9ll",
        "colab_type": "code",
        "colab": {}
      },
      "source": [
        "%cd ~/datalab\n",
        "\n",
        "from google.colab import files\n",
        "from os import path\n",
        "\n",
        "uploaded = files.upload()\n",
        "  \n",
        "for name, data in uploaded.items():\n",
        "  with open('image1.jpg', 'wb') as f:\n",
        "    f.write(data)\n",
        "    f.close()\n",
        "    print('saved file ' + name)\n",
        "    \n",
        "    \n",
        "# im = Image.open('image1.jpg')\n",
        "# new_width  = 600\n",
        "# new_height = 400\n",
        "# im = im.resize((new_width, new_height), Image.ANTIALIAS)\n",
        "# im.save('image1.jpg')\n",
        "\n",
        "\n"
      ],
      "execution_count": 0,
      "outputs": []
    },
    {
      "cell_type": "markdown",
      "metadata": {
        "id": "yEKYdPJSoHb6",
        "colab_type": "text"
      },
      "source": [
        "# Run inference\n"
      ]
    },
    {
      "cell_type": "code",
      "metadata": {
        "id": "VUy6KXMToLVc",
        "colab_type": "code",
        "colab": {}
      },
      "source": [
        "%cd ~/models/research/object_detection\n",
        "\n",
        "\n",
        "\n",
        "\n",
        "import numpy as np\n",
        "import os\n",
        "import six.moves.urllib as urllib\n",
        "import sys\n",
        "import tarfile\n",
        "import tensorflow as tf\n",
        "import zipfile\n",
        "\n",
        "from collections import defaultdict\n",
        "from io import StringIO\n",
        "from matplotlib import pyplot as plt\n",
        "from PIL import Image\n",
        "\n",
        "# This is needed since the notebook is stored in the object_detection folder.\n",
        "sys.path.append(\"..\")\n",
        "from object_detection.utils import ops as utils_ops\n",
        "\n",
        "# if tf.__version__ < '1.4.0':\n",
        "#   raise ImportError('Please upgrade your tensorflow installation to v1.4.* or later!')\n",
        "  \n",
        "\n",
        "  \n",
        "  \n",
        "# This is needed to display the images.\n",
        "%matplotlib inline\n",
        "\n",
        "\n",
        "\n",
        "\n",
        "from utils import label_map_util\n",
        "\n",
        "from utils import visualization_utils as vis_util\n",
        "\n",
        "\n",
        "\n",
        "\n",
        "# What model to download.\n",
        "# Path to frozen detection graph. This is the actual model that is used for the object detection.\n",
        "PATH_TO_CKPT = '/root/datalab/fine_tuned_model' + '/frozen_inference_graph.pb'\n",
        "\n",
        "# List of the strings that is used to add correct label for each box.\n",
        "PATH_TO_LABELS = os.path.join('/root/datalab', 'label_map.pbtxt')\n",
        "\n",
        "NUM_CLASSES = 37\n",
        "\n",
        "\n",
        "\n",
        "\n",
        "detection_graph = tf.Graph()\n",
        "with detection_graph.as_default():\n",
        "  od_graph_def = tf.GraphDef()\n",
        "  with tf.gfile.GFile(PATH_TO_CKPT, 'rb') as fid:\n",
        "    serialized_graph = fid.read()\n",
        "    od_graph_def.ParseFromString(serialized_graph)\n",
        "    tf.import_graph_def(od_graph_def, name='')\n",
        "    \n",
        "    \n",
        "    \n",
        "    \n",
        "print('hero')\n",
        "    \n",
        "with tf.Session() as sess:\n",
        "  # `sess.graph` provides access to the graph used in a `tf.Session`.\n",
        "  writer = tf.summary.FileWriter(\"./hero\", sess.graph)    \n",
        "    \n",
        "label_map = label_map_util.load_labelmap(PATH_TO_LABELS)\n",
        "categories = label_map_util.convert_label_map_to_categories(label_map, max_num_classes=NUM_CLASSES, use_display_name=True)\n",
        "category_index = label_map_util.create_category_index(categories)\n",
        "\n",
        "\n",
        "\n",
        "\n",
        "def load_image_into_numpy_array(image):\n",
        "  (im_width, im_height) = image.size\n",
        "  return np.array(image.getdata()).reshape(\n",
        "      (im_height, im_width, 3)).astype(np.uint8)\n",
        "\n",
        "\n",
        "\n",
        "\n",
        "# If you want to test the code with your images, just add path to the images to the TEST_IMAGE_PATHS.\n",
        "PATH_TO_TEST_IMAGES_DIR = '/root/datalab/'\n",
        "TEST_IMAGE_PATHS = [ os.path.join(PATH_TO_TEST_IMAGES_DIR, 'image{}.jpg'.format(i)) for i in range(1, 2) ]\n",
        "\n",
        "# Size, in inches, of the output images.\n",
        "IMAGE_SIZE = (12, 8)\n",
        "\n",
        "\n",
        "\n",
        "\n",
        "def run_inference_for_single_image(image, graph):\n",
        "  with graph.as_default():\n",
        "    with tf.Session() as sess:\n",
        "      # Get handles to input and output tensors\n",
        "      ops = tf.get_default_graph().get_operations()\n",
        "      all_tensor_names = {output.name for op in ops for output in op.outputs}\n",
        "      tensor_dict = {}\n",
        "      for key in [\n",
        "          'num_detections', 'detection_boxes', 'detection_scores',\n",
        "          'detection_classes', 'detection_masks'\n",
        "      ]:\n",
        "        tensor_name = key + ':0'\n",
        "        if tensor_name in all_tensor_names:\n",
        "          tensor_dict[key] = tf.get_default_graph().get_tensor_by_name(\n",
        "              tensor_name)\n",
        "      if 'detection_masks' in tensor_dict:\n",
        "        # The following processing is only for single image\n",
        "        detection_boxes = tf.squeeze(tensor_dict['detection_boxes'], [0])\n",
        "        detection_masks = tf.squeeze(tensor_dict['detection_masks'], [0])\n",
        "        # Reframe is required to translate mask from box coordinates to image coordinates and fit the image size.\n",
        "        real_num_detection = tf.cast(tensor_dict['num_detections'][0], tf.int32)\n",
        "        detection_boxes = tf.slice(detection_boxes, [0, 0], [real_num_detection, -1])\n",
        "        detection_masks = tf.slice(detection_masks, [0, 0, 0], [real_num_detection, -1, -1])\n",
        "        detection_masks_reframed = utils_ops.reframe_box_masks_to_image_masks(\n",
        "            detection_masks, detection_boxes, image.shape[0], image.shape[1])\n",
        "        detection_masks_reframed = tf.cast(\n",
        "            tf.greater(detection_masks_reframed, 0.5), tf.uint8)\n",
        "        # Follow the convention by adding back the batch dimension\n",
        "        tensor_dict['detection_masks'] = tf.expand_dims(\n",
        "            detection_masks_reframed, 0)\n",
        "      image_tensor = tf.get_default_graph().get_tensor_by_name('image_tensor:0')\n",
        "\n",
        "      # Run inference\n",
        "      output_dict = sess.run(tensor_dict,\n",
        "                             feed_dict={image_tensor: np.expand_dims(image, 0)})\n",
        "\n",
        "      # all outputs are float32 numpy arrays, so convert types as appropriate\n",
        "      output_dict['num_detections'] = int(output_dict['num_detections'][0])\n",
        "      output_dict['detection_classes'] = output_dict[\n",
        "          'detection_classes'][0].astype(np.uint8)\n",
        "      output_dict['detection_boxes'] = output_dict['detection_boxes'][0]\n",
        "      output_dict['detection_scores'] = output_dict['detection_scores'][0]\n",
        "      if 'detection_masks' in output_dict:\n",
        "        output_dict['detection_masks'] = output_dict['detection_masks'][0]\n",
        "        \n",
        "  return output_dict\n",
        "\n",
        "\n",
        "\n",
        "for image_path in TEST_IMAGE_PATHS:\n",
        "  image = Image.open(image_path)\n",
        "  # the array based representation of the image will be used later in order to prepare the\n",
        "  # result image with boxes and labels on it.\n",
        "  image_np = load_image_into_numpy_array(image)\n",
        "  # Expand dimensions since the model expects images to have shape: [1, None, None, 3]\n",
        "  image_np_expanded = np.expand_dims(image_np, axis=0)\n",
        "  # Actual detection.\n",
        "  output_dict = run_inference_for_single_image(image_np, detection_graph)\n",
        "  # Visualization of the results of a detection.\n",
        "  vis_util.visualize_boxes_and_labels_on_image_array(\n",
        "      image_np,\n",
        "      output_dict['detection_boxes'],\n",
        "      output_dict['detection_classes'],\n",
        "      output_dict['detection_scores'],\n",
        "      category_index,\n",
        "      instance_masks=output_dict.get('detection_masks'),\n",
        "      use_normalized_coordinates=True,\n",
        "      line_thickness=8)\n",
        "  plt.figure(figsize=IMAGE_SIZE)\n",
        "  plt.imshow(image_np)\n",
        "  "
      ],
      "execution_count": 0,
      "outputs": []
    },
    {
      "cell_type": "code",
      "metadata": {
        "id": "miGIMLW5Q7-F",
        "colab_type": "code",
        "colab": {}
      },
      "source": [
        "%cd ~\n",
        "!zip -r /root/newfile.zip /root/datalab/pretrained_model\n",
        "\n",
        "from google.colab import files\n",
        "files.download('/root/newfile.zip')\n",
        "\n",
        "\n",
        "# # !rm -r /root/datalab\n",
        "\n",
        "\n",
        "\n",
        "\n",
        "# import tensorflow as tf\n",
        "\n",
        "\n",
        "# LOG_DIR = '/root/datalab/pretrained_model'\n",
        "\n",
        "\n",
        "\n",
        "# !tensorboard --logdir=LOG_DIR\n",
        "\n",
        "\n",
        "# get_ipython().system_raw(\n",
        "#     'tensorboard --logdir {} --host 0.0.0.0 --port 6006 &'\n",
        "#     .format(LOG_DIR)\n",
        "# )\n",
        "\n",
        "\n",
        "# get_ipython().system_raw('./ngrok http 6006 &')\n",
        "# # One last step, we get the public URL where we can access the colab TensorBoard web page.\n",
        "\n",
        "# !curl -s http://localhost:4040/api/tunnels | python3 -c \\\n",
        "#     \"import sys, json; print(json.load(sys.stdin)['tunnels'][0]['public_url'])\""
      ],
      "execution_count": 0,
      "outputs": []
    },
    {
      "cell_type": "code",
      "metadata": {
        "id": "DoIoLs-ZzO5H",
        "colab_type": "code",
        "colab": {}
      },
      "source": [
        "\n",
        "%cd ~/datalab\n",
        "\n",
        "LOGDIR = '/root/datalab/pretrained_model'\n",
        "\n",
        "\n",
        "\n",
        "#Todo\n",
        "import tensorflow as tf\n",
        "from tensorflow.python.platform import gfile\n",
        "with tf.Session() as sess:\n",
        "    model_filename ='/root/datalab/fine_tuned_model/frozen_inference_graph.pb'\n",
        "    with gfile.FastGFile(model_filename, 'rb') as f:\n",
        "        graph_def = tf.GraphDef()\n",
        "        graph_def.ParseFromString(f.read())\n",
        "        g_in = tf.import_graph_def(graph_def)\n",
        "LOGDIR='/root/datalab/fine_tuned_model'\n",
        "train_writer = tf.summary.FileWriter(LOGDIR)\n",
        "train_writer.add_graph(sess.graph)\n",
        "\n",
        "\n",
        "\n"
      ],
      "execution_count": 0,
      "outputs": []
    },
    {
      "cell_type": "code",
      "metadata": {
        "id": "8zij1jb1hzV5",
        "colab_type": "code",
        "colab": {}
      },
      "source": [
        "%cd ~\n",
        "!rm -r *\n",
        "\n",
        "# import fnmatch\n",
        "\n",
        "# image_count= len(fnmatch.filter(os.listdir('/root/datalab/images'), '*.jpg'))\n",
        "# batch=image_count/24\n",
        "# print(str(batch))\n",
        "\n",
        "\n"
      ],
      "execution_count": 0,
      "outputs": []
    }
  ]
}